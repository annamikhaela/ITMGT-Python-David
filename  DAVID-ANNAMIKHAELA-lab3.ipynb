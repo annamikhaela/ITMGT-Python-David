{
 "cells": [
  {
   "cell_type": "markdown",
   "id": "d9cb563e",
   "metadata": {},
   "source": [
    "## Student Details \n",
    "ID NUMBER: 201515  \n",
    "SURNAME: David  \n",
    "YEAR AND COURSE: 2 BS ITE  "
   ]
  },
  {
   "cell_type": "markdown",
   "id": "d3b45f47",
   "metadata": {},
   "source": [
    "### Caesar Cipher\n"
   ]
  },
  {
   "cell_type": "code",
   "execution_count": 1,
   "id": "05c41294",
   "metadata": {},
   "outputs": [],
   "source": [
    "def encrypt(message,shift):\n",
    "    result = \"\"\n",
    "    \n",
    "    for i in range(len(message)): \n",
    "        char = message[i]\n",
    "\n",
    "        if(char.isupper()):\n",
    "            result += chr((ord(char) + shift - 65) % 26 + 65)\n",
    "        elif(char.isspace()):\n",
    "            result += chr((ord(char) + shift - 65) % 26 + 65)\n",
    "        else: \n",
    "            result += chr((ord(char) + shift - 97) % 26 + 97)\n",
    "            \n",
    "            \n",
    "    return result \n",
    "    "
   ]
  },
  {
   "cell_type": "code",
   "execution_count": 2,
   "id": "eb731a6a",
   "metadata": {},
   "outputs": [
    {
     "name": "stdout",
     "output_type": "stream",
     "text": [
      "Enter your word here:Anna was here\n",
      "Enter the number of times you want it to shift: 5\n",
      "Text : Anna was here\n",
      "Shift: 5\n",
      "Cipher: FssfYbfxYmjwj\n"
     ]
    }
   ],
   "source": [
    "message = str(input(\"Enter your word here:\"))\n",
    "shift = int(input(\"Enter the number of times you want it to shift: \"))\n",
    "\n",
    "print (\"Text : \" + message)\n",
    "print (\"Shift: \" + str(shift))\n",
    "print (\"Cipher: \" + encrypt(message,shift))"
   ]
  },
  {
   "cell_type": "markdown",
   "id": "476fa13b",
   "metadata": {},
   "source": [
    "### Social Media Relationships\n"
   ]
  },
  {
   "cell_type": "code",
   "execution_count": 8,
   "id": "0e896809",
   "metadata": {},
   "outputs": [],
   "source": [
    "social_graph = {\n",
    "    \"@bongolpoc\":{\"first_name\":\"Joselito\",\n",
    "                  \"last_name\":\"Olpoc\",\n",
    "                  \"following\":[\n",
    "                  ]\n",
    "    },\n",
    "    \"@joaquin\":  {\"first_name\":\"Joaquin\",\n",
    "                  \"last_name\":\"Gonzales\",\n",
    "                  \"following\":[\n",
    "                      \"@chums\",\"@jobenilagan\"\n",
    "                  ]\n",
    "    },\n",
    "    \"@chums\" : {\"first_name\":\"Matthew\",\n",
    "                \"last_name\":\"Uy\",\n",
    "                \"following\":[\n",
    "                    \"@bongolpoc\",\"@miketan\",\"@rudyang\",\"@joeilagan\"\n",
    "                ]\n",
    "    },\n",
    "    \"@jobenilagan\":{\"first_name\":\"Joben\",\n",
    "                   \"last_name\":\"Ilagan\",\n",
    "                   \"following\":[\n",
    "                    \"@eeebeee\",\"@joeilagan\",\"@chums\",\"@joaquin\"\n",
    "                   ]\n",
    "    },\n",
    "    \"@joeilagan\":{\"first_name\":\"Joe\",\n",
    "                  \"last_name\":\"Ilagan\",\n",
    "                  \"following\":[\n",
    "                    \"@eeebeee\",\"@jobenilagan\",\"@chums\"\n",
    "                  ]\n",
    "    },\n",
    "    \"@eeebeee\":  {\"first_name\":\"Elizabeth\",\n",
    "                  \"last_name\":\"Ilagan\",\n",
    "                  \"following\":[\n",
    "                    \"@jobenilagan\",\"@joeilagan\"\n",
    "                  ]\n",
    "    },\n",
    "}\n",
    "\n",
    "def relationship_status(from_member,to_member,social_graph):\n",
    "    following = False\n",
    "    followedby = False \n",
    "    if to_member in social_graph[from_member][\"following\"]:\n",
    "        following = True \n",
    "    if from_member in social_graph[to_member][\"following\"]:\n",
    "        followedby = True \n",
    "    if (following == True) and (followedby == True):\n",
    "        return \"friends\" \n",
    "    #need to find a way that only following is true\n",
    "    elif following == True and followedby == False:\n",
    "        return \"following\"\n",
    "    #need to find a way that only followed by is true \n",
    "    elif followedby == True and following == False:\n",
    "        return \"followed by\"\n",
    "    else: \n",
    "        return None \n",
    "        \n",
    "    "
   ]
  },
  {
   "cell_type": "code",
   "execution_count": 10,
   "id": "59fc6c1d",
   "metadata": {},
   "outputs": [
    {
     "name": "stdout",
     "output_type": "stream",
     "text": [
      "Type the username of the person: @joaquin\n",
      "Type the username of the other person: @chums\n",
      "following\n"
     ]
    }
   ],
   "source": [
    "from_member = str(input(\"Type the username of the person: \"))\n",
    "to_member = str(input(\"Type the username of the other person: \"))\n",
    "\n",
    "print(relationship_status(from_member,to_member,social_graph))"
   ]
  },
  {
   "cell_type": "markdown",
   "id": "72b7a747",
   "metadata": {},
   "source": [
    "### Tic Tac Toe\n"
   ]
  },
  {
   "cell_type": "code",
   "execution_count": 12,
   "id": "f49a0648",
   "metadata": {},
   "outputs": [],
   "source": [
    "board1 = [\n",
    "['X','X','O'],\n",
    "['O','X','O'],\n",
    "['O','','X'],\n",
    "]\n",
    "\n",
    "board2 = [\n",
    "['X','X','O'],\n",
    "['O','X','O'],\n",
    "['','O','X'],\n",
    "]\n",
    "\n",
    "board3 = [\n",
    "['O','X','O'],\n",
    "['','O','X'],\n",
    "['X','X','O'],\n",
    "]\n",
    "\n",
    "board4 = [\n",
    "['X','X','X'],\n",
    "['O','X','O'],\n",
    "['O','','O'],\n",
    "]\n",
    "\n",
    "board5 = [\n",
    "['X','X','O'],\n",
    "['O','X','O'],\n",
    "['X','','O'],\n",
    "]\n",
    "\n",
    "board6 = [\n",
    "['X','X','O'],\n",
    "['O','X','O'],\n",
    "['X','',''],\n",
    "]\n",
    "\n"
   ]
  },
  {
   "cell_type": "code",
   "execution_count": 13,
   "id": "dc431a97",
   "metadata": {},
   "outputs": [],
   "source": [
    "def solo_list(l):\n",
    "    if(all(i == 'X' for i in l)):\n",
    "        return 'X'\n",
    "    elif(all(i == 'O' for i in l)):\n",
    "        return 'O'\n",
    "    else:\n",
    "        return None"
   ]
  },
  {
   "cell_type": "code",
   "execution_count": 14,
   "id": "8d9a7847",
   "metadata": {},
   "outputs": [
    {
     "name": "stdout",
     "output_type": "stream",
     "text": [
      "X\n"
     ]
    }
   ],
   "source": [
    "#only within the context of the given boards in the exercise \n",
    "def tic_tac_toe(board):\n",
    "\n",
    "    winner = None\n",
    "#diagonals and columns \n",
    "    d1 = []\n",
    "    d2 = []\n",
    "    c1 = []\n",
    "    c2 = []\n",
    "    c3 = []\n",
    "    for x in range(3):\n",
    "        c1.append(board[x][0])\n",
    "        c2.append(board[x][1])\n",
    "        c3.append(board[x][2])\n",
    "        d1.append(board[x][x])\n",
    "        d2.append(board[x][x-1])\n",
    "    winner=[]\n",
    "    winner.append(solo_list(c1))\n",
    "    winner.append(solo_list(c2))\n",
    "    winner.append(solo_list(c3))\n",
    "    winner.append(solo_list(d1))\n",
    "    winner.append(solo_list(d2))\n",
    "    winner.append(solo_list(board[0]))\n",
    "    winner.append(solo_list(board[1]))\n",
    "    winner.append(solo_list(board[2]))\n",
    "    if 'O' in winner:\n",
    "        return 'O'\n",
    "    elif 'X' in winner:\n",
    "        return 'X'\n",
    "    else:\n",
    "        return \"No winner. It's a tie\"\n",
    "#can only print boards that are directly selected here in this code below \n",
    "print(tic_tac_toe(board1))"
   ]
  },
  {
   "cell_type": "markdown",
   "id": "c3f16dfe",
   "metadata": {},
   "source": [
    "### Routing "
   ]
  },
  {
   "cell_type": "code",
   "execution_count": 27,
   "id": "ce2b49b7",
   "metadata": {},
   "outputs": [],
   "source": [
    "legs = {\n",
    "     (\"upd\",\"admu\"):{\n",
    "         \"travel_time_mins\":10\n",
    "     },\n",
    "     (\"admu\",\"dlsu\"):{\n",
    "         \"travel_time_mins\":35\n",
    "     },\n",
    "     (\"dlsu\",\"upd\"):{\n",
    "         \"travel_time_mins\":55\n",
    "     }\n",
    "}"
   ]
  },
  {
   "cell_type": "code",
   "execution_count": 39,
   "id": "f4fc6688",
   "metadata": {},
   "outputs": [],
   "source": [
    "def eta(legs,source,destination):\n",
    "    if (source,destination) in legs:\n",
    "        return legs[(source,destination)]['travel_time_mins']\n",
    "\n",
    "    else: \n",
    "        if source == \"upd\":\n",
    "            return legs[(source,\"admu\")][\"travel_time_mins\"] + legs[(\"admu\",destination)][\"travel_time_mins\"]\n",
    "        elif source == \"admu\":\n",
    "            return legs[(source,\"dlsu\")][\"travel_time_mins\"] + legs[(\"dlsu\",destination)][\"travel_time_mins\"]\n",
    "        elif source == \"dlsu\":\n",
    "            return legs[(source,\"upd\")][\"travel_time_mins\"] + legs[(\"upd\",destination)][\"travel_time_mins\"]\n",
    "#considers that the van cannot go straight home, needs to pass others first\n"
   ]
  },
  {
   "cell_type": "code",
   "execution_count": 40,
   "id": "4bf44064",
   "metadata": {},
   "outputs": [
    {
     "ename": "SyntaxError",
     "evalue": "invalid syntax (<ipython-input-40-33346032e99c>, line 4)",
     "output_type": "error",
     "traceback": [
      "\u001b[0;36m  File \u001b[0;32m\"<ipython-input-40-33346032e99c>\"\u001b[0;36m, line \u001b[0;32m4\u001b[0m\n\u001b[0;31m    print (\"ETA:\" + eta(source,destination))\u001b[0m\n\u001b[0m    ^\u001b[0m\n\u001b[0;31mSyntaxError\u001b[0m\u001b[0;31m:\u001b[0m invalid syntax\n"
     ]
    }
   ],
   "source": [
    "source = input(str(\"Where are you from?\"))\n",
    "destination = input(str(\"where are you headed?\")\n",
    "\n",
    "print (\"ETA:\" + eta(source,destination))"
   ]
  },
  {
   "cell_type": "code",
   "execution_count": null,
   "id": "fc2c0ec3",
   "metadata": {},
   "outputs": [],
   "source": []
  }
 ],
 "metadata": {
  "kernelspec": {
   "display_name": "Python 3",
   "language": "python",
   "name": "python3"
  },
  "language_info": {
   "codemirror_mode": {
    "name": "ipython",
    "version": 3
   },
   "file_extension": ".py",
   "mimetype": "text/x-python",
   "name": "python",
   "nbconvert_exporter": "python",
   "pygments_lexer": "ipython3",
   "version": "3.8.8"
  }
 },
 "nbformat": 4,
 "nbformat_minor": 5
}
