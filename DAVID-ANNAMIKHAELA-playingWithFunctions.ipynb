{
 "cells": [
  {
   "cell_type": "markdown",
   "id": "3839b819",
   "metadata": {},
   "source": [
    "## Student Details\n",
    "ID Number: 201515  \n",
    "Surname: David   \n",
    "Year and Course: 2 BS ITE  \n"
   ]
  },
  {
   "cell_type": "markdown",
   "id": "7ba65e8c",
   "metadata": {},
   "source": [
    "### Problem 1 - Factorial Problem"
   ]
  },
  {
   "cell_type": "code",
   "execution_count": 1,
   "id": "e123da4a",
   "metadata": {},
   "outputs": [],
   "source": [
    "def problem_1(n):\n",
    "    if n ==0:\n",
    "        return 1\n",
    "    else: \n",
    "        return n*problem_1(n-1)"
   ]
  },
  {
   "cell_type": "code",
   "execution_count": 21,
   "id": "09695739",
   "metadata": {},
   "outputs": [
    {
     "name": "stdout",
     "output_type": "stream",
     "text": [
      "Input the number you want to find the factorial of: 6\n",
      "720\n"
     ]
    }
   ],
   "source": [
    "n = int(input(\"Input the number you want to find the factorial of: \"))\n",
    "print (problem_1(n))"
   ]
  },
  {
   "cell_type": "markdown",
   "id": "45a50bbb",
   "metadata": {},
   "source": [
    "### Problem 2 - Guessing Game"
   ]
  },
  {
   "cell_type": "code",
   "execution_count": 43,
   "id": "2b62ccc8",
   "metadata": {},
   "outputs": [
    {
     "name": "stdout",
     "output_type": "stream",
     "text": [
      "Guess the name of the person: hapy\n",
      "Guess the name of the person: Jimin\n",
      "1\n"
     ]
    }
   ],
   "source": [
    "name = \"Jimin\"\n",
    "i=1\n",
    "\n",
    "while (i<=3):\n",
    "    i+=1\n",
    "    \n",
    "    try:\n",
    "        guess = str(input(\"Guess the name of the person: \"))\n",
    "\n",
    "    except: \n",
    "        print (\"You entered the wrong name. Try again\")\n",
    "        continue\n",
    "        \n",
    "    if guess == name:\n",
    "        print (int(1))\n",
    "        break\n",
    "    else:\n",
    "        if i >3:\n",
    "            print (int(0))\n",
    "            break\n"
   ]
  },
  {
   "cell_type": "markdown",
   "id": "37f1b23e",
   "metadata": {},
   "source": [
    "### Problem 3 - Temperature Converter "
   ]
  },
  {
   "cell_type": "code",
   "execution_count": 28,
   "id": "2042d4af",
   "metadata": {},
   "outputs": [],
   "source": [
    "def problem_3(og, new, value):\n",
    "    if og == \"Fahrenheit\" and new == \"Celcius\":\n",
    "        return float((value-32)*(5/9))\n",
    "    elif og == \"Fahrenheit\" and new == \"Kelvin\":\n",
    "        return float((value-32)*(5/9)+273.15)\n",
    "    elif og == \"Celcius\" and new == \"Fahrenheit\":\n",
    "        return float((value*9/5)+32)\n",
    "    elif og == \"Celcius\" and new == \"Kelvin\":\n",
    "        return value + 273.15\n",
    "    elif og == \"Kelvin\" and new == \"Celcius\":\n",
    "        return value - 273.15\n",
    "    elif og == \"Kelvin\" and new == \"Fahrenheit\":\n",
    "        return float((value-273.15)*(9/5)+(32))\n",
    "\n",
    "    #note on problem i faced, only C-> K and K-> C were returning \n",
    "  "
   ]
  },
  {
   "cell_type": "code",
   "execution_count": 29,
   "id": "7879a475",
   "metadata": {},
   "outputs": [
    {
     "name": "stdout",
     "output_type": "stream",
     "text": [
      "Input value you wish to convert: 56\n",
      "What is the original unit of the value you just inputted: Kelvin\n",
      "What is the unit you want to convert the value into: Fahrenheit \n",
      "None\n"
     ]
    }
   ],
   "source": [
    "value = float(input(\"Input value you wish to convert: \"))\n",
    "og = str(input(\"What is the original unit of the value you just inputted: \"))\n",
    "new = str(input(\"What is the unit you want to convert the value into: \"))\n",
    "\n",
    "convert = problem_3(og, new, value)\n",
    "\n",
    "print (convert)"
   ]
  },
  {
   "cell_type": "markdown",
   "id": "99d29e2e",
   "metadata": {},
   "source": [
    "### Problem 4 - Exact Change"
   ]
  },
  {
   "cell_type": "code",
   "execution_count": 2,
   "id": "e576abc5",
   "metadata": {},
   "outputs": [
    {
     "name": "stdout",
     "output_type": "stream",
     "text": [
      "What is the value you want to find the change of?56\n",
      "In the order of 1 pesos, 25 centavos, 10 centavos, 5 centavos, and 1 centavo\n",
      "0\n",
      "2\n",
      "0\n",
      "1\n",
      "1\n"
     ]
    }
   ],
   "source": [
    "def problem_4(change):\n",
    "    coins = [100, 25, 10, 5, 1]\n",
    "    for i in range(5):\n",
    "        num = change//coins[i]\n",
    "        print(num)\n",
    "        change = change - num*coins[i]\n",
    "\n",
    "value = int(input(\"What is the value you want to find the change of?\"))\n",
    "print (\"In the order of 1 pesos, 25 centavos, 10 centavos, 5 centavos, and 1 centavo\")\n",
    "problem_4(value)"
   ]
  },
  {
   "cell_type": "markdown",
   "id": "57ea421f",
   "metadata": {},
   "source": [
    "### Problem 5 - Invert Capitalization"
   ]
  },
  {
   "cell_type": "markdown",
   "id": "a7217b4b",
   "metadata": {},
   "source": [
    "HOW: \n",
    "\n",
    "if message contains values between 65 to 90 = flip it  \n",
    "if message contains values from 97 to 122 = flip it "
   ]
  },
  {
   "cell_type": "code",
   "execution_count": 8,
   "id": "41a97a32",
   "metadata": {},
   "outputs": [],
   "source": [
    "def problem_5(message):\n",
    "    answer = \"\"\n",
    "    for i in range(0,len(message)):\n",
    "         ascii = ord(message[i])\n",
    "    if ascii>64 and ascii<91:\n",
    "         answer +=chr(ascii+32)\n",
    "    elif ascii>96 and ascii<123:\n",
    "         answer +=chr(ascii-32)\n",
    "    return answer  \n",
    "        "
   ]
  },
  {
   "cell_type": "code",
   "execution_count": 9,
   "id": "695a81da",
   "metadata": {},
   "outputs": [
    {
     "name": "stdout",
     "output_type": "stream",
     "text": [
      "Enter your word here: MayvE\n",
      "The inverted text is:  e\n"
     ]
    }
   ],
   "source": [
    "message = str(input(\"Enter your word here: \"))\n",
    "result = problem_5(message)\n",
    "print (\"The inverted text is: \", result)"
   ]
  },
  {
   "cell_type": "markdown",
   "id": "602dca99",
   "metadata": {},
   "source": [
    "Below is another version with the same result: only the last is flipped "
   ]
  },
  {
   "cell_type": "code",
   "execution_count": 10,
   "id": "f45363ff",
   "metadata": {},
   "outputs": [],
   "source": [
    "def problem_5(message):\n",
    "    answer = \"\"\n",
    "    for i in message:\n",
    "        if(i.isupper()) == True:\n",
    "            answer+= (i.lower())\n",
    "        elif(i.islower()) == True:\n",
    "            answer += (i.upper())\n",
    "        elif(i.isspace()) == True:\n",
    "            answer += i\n",
    "        return answer "
   ]
  },
  {
   "cell_type": "code",
   "execution_count": 11,
   "id": "223f1e22",
   "metadata": {},
   "outputs": [
    {
     "name": "stdout",
     "output_type": "stream",
     "text": [
      "Enter your word here: ANnA\n",
      "The inverted text is:  a\n"
     ]
    }
   ],
   "source": [
    "message = str(input(\"Enter your word here: \"))\n",
    "result = problem_5(message)\n",
    "print (\"The inverted text is: \", result)"
   ]
  },
  {
   "cell_type": "code",
   "execution_count": null,
   "id": "acd3bec1",
   "metadata": {},
   "outputs": [],
   "source": []
  }
 ],
 "metadata": {
  "kernelspec": {
   "display_name": "Python 3",
   "language": "python",
   "name": "python3"
  },
  "language_info": {
   "codemirror_mode": {
    "name": "ipython",
    "version": 3
   },
   "file_extension": ".py",
   "mimetype": "text/x-python",
   "name": "python",
   "nbconvert_exporter": "python",
   "pygments_lexer": "ipython3",
   "version": "3.8.8"
  }
 },
 "nbformat": 4,
 "nbformat_minor": 5
}
