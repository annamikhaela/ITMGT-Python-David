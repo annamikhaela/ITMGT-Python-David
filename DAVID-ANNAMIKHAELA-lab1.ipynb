{
 "cells": [
  {
   "cell_type": "markdown",
   "id": "0bded29d",
   "metadata": {},
   "source": [
    "## Student Details \n",
    "ID NUMBER: 201515  \n",
    "SURNAME: David   \n",
    "YEAR and COURSE: 2 BS ITE   "
   ]
  },
  {
   "cell_type": "markdown",
   "id": "30baaf9f",
   "metadata": {},
   "source": [
    "### Problem 1 Currency Converter \n"
   ]
  },
  {
   "cell_type": "code",
   "execution_count": 8,
   "id": "01e0abdb",
   "metadata": {},
   "outputs": [],
   "source": [
    "def dollar_to_pesos(dollars):\n",
    "    conversion = dollars*50\n",
    "    return str(conversion)"
   ]
  },
  {
   "cell_type": "code",
   "execution_count": 9,
   "id": "97919c0f",
   "metadata": {},
   "outputs": [
    {
     "name": "stdout",
     "output_type": "stream",
     "text": [
      "Enter the amount in US Dollars: 5\n",
      "5 US dollar(s) = 250 Philippine Peso(s)\n"
     ]
    }
   ],
   "source": [
    "dollars = int(input(\"Enter the amount in US Dollars: \"))\n",
    "\n",
    "conversion = dollar_to_pesos(dollars)\n",
    "\n",
    "print (str(dollars) +\" US dollar(s) = \" + str(conversion) + \" Philippine Peso(s)\")"
   ]
  },
  {
   "cell_type": "markdown",
   "id": "bfe38c4d",
   "metadata": {},
   "source": [
    "### Problem 2 Numerical Operations"
   ]
  },
  {
   "cell_type": "code",
   "execution_count": 5,
   "id": "d2b8f575",
   "metadata": {},
   "outputs": [
    {
     "name": "stdout",
     "output_type": "stream",
     "text": [
      "x = 4\n",
      "y = 7\n",
      "--------\n",
      "11\n",
      "-3\n",
      "28\n",
      "0\n",
      "4\n"
     ]
    }
   ],
   "source": [
    "x = int(input(\"x = \"))\n",
    "\n",
    "y = int(input(\"y = \"))\n",
    "\n",
    "print (\"--------\")\n",
    "print (x+y)\n",
    "print (x-y)\n",
    "print (x*y)\n",
    "print (x//y)\n",
    "print (x%y)"
   ]
  },
  {
   "cell_type": "markdown",
   "id": "a5eadfd1",
   "metadata": {},
   "source": [
    "### Problem 3 BMI Calculator "
   ]
  },
  {
   "cell_type": "code",
   "execution_count": 6,
   "id": "c570d78d",
   "metadata": {},
   "outputs": [],
   "source": [
    "def solve_bmi(kg,cm):\n",
    "    m2 = (cm / 100)**2\n",
    "    bmi = kg/m2\n",
    "    return bmi\n"
   ]
  },
  {
   "cell_type": "code",
   "execution_count": 7,
   "id": "983d27ec",
   "metadata": {},
   "outputs": [
    {
     "name": "stdout",
     "output_type": "stream",
     "text": [
      "kg: 50\n",
      "cm: 153\n",
      "Your BMI is 21.35930624973301\n"
     ]
    }
   ],
   "source": [
    "kg = float(input(\"kg: \"))\n",
    "cm = float(input(\"cm: \"))\n",
    "\n",
    "bmi = solve_bmi(kg,cm)\n",
    "\n",
    "print (\"Your BMI is\", bmi)"
   ]
  },
  {
   "cell_type": "code",
   "execution_count": null,
   "id": "21a4ca5d",
   "metadata": {},
   "outputs": [],
   "source": []
  }
 ],
 "metadata": {
  "kernelspec": {
   "display_name": "Python 3",
   "language": "python",
   "name": "python3"
  },
  "language_info": {
   "codemirror_mode": {
    "name": "ipython",
    "version": 3
   },
   "file_extension": ".py",
   "mimetype": "text/x-python",
   "name": "python",
   "nbconvert_exporter": "python",
   "pygments_lexer": "ipython3",
   "version": "3.8.8"
  }
 },
 "nbformat": 4,
 "nbformat_minor": 5
}
