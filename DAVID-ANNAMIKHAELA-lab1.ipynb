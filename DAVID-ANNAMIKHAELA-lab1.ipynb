{
 "cells": [
  {
   "cell_type": "markdown",
   "id": "0bded29d",
   "metadata": {},
   "source": [
    "## Student Details \n",
    "ID NUMBER: 201515  \n",
    "SURNAME: David   \n",
    "YEAR and COURSE: 2 BS ITE   "
   ]
  },
  {
   "cell_type": "markdown",
   "id": "30baaf9f",
   "metadata": {},
   "source": [
    "### Problem 1 Currency Converter \n"
   ]
  },
  {
   "cell_type": "code",
   "execution_count": null,
   "id": "01e0abdb",
   "metadata": {},
   "outputs": [],
   "source": [
    "def dollar_to_pesos(dollars):\n",
    "    conversion = dollars*50\n",
    "    return conversion"
   ]
  },
  {
   "cell_type": "code",
   "execution_count": 2,
   "id": "97919c0f",
   "metadata": {},
   "outputs": [
    {
     "ename": "KeyboardInterrupt",
     "evalue": "Interrupted by user",
     "output_type": "error",
     "traceback": [
      "\u001b[0;31m---------------------------------------------------------------------------\u001b[0m",
      "\u001b[0;31mKeyboardInterrupt\u001b[0m                         Traceback (most recent call last)",
      "\u001b[0;32m<ipython-input-2-02aefc188b72>\u001b[0m in \u001b[0;36m<module>\u001b[0;34m\u001b[0m\n\u001b[0;32m----> 1\u001b[0;31m \u001b[0mdollars\u001b[0m \u001b[0;34m=\u001b[0m \u001b[0mfloat\u001b[0m\u001b[0;34m(\u001b[0m\u001b[0minput\u001b[0m\u001b[0;34m(\u001b[0m\u001b[0;34m\"Enter the amount in US Dollars: \"\u001b[0m\u001b[0;34m)\u001b[0m\u001b[0;34m)\u001b[0m\u001b[0;34m\u001b[0m\u001b[0;34m\u001b[0m\u001b[0m\n\u001b[0m\u001b[1;32m      2\u001b[0m \u001b[0;34m\u001b[0m\u001b[0m\n\u001b[1;32m      3\u001b[0m \u001b[0mconversion\u001b[0m \u001b[0;34m=\u001b[0m \u001b[0mdollar_to_pesos\u001b[0m\u001b[0;34m(\u001b[0m\u001b[0mdollars\u001b[0m\u001b[0;34m)\u001b[0m\u001b[0;34m\u001b[0m\u001b[0;34m\u001b[0m\u001b[0m\n\u001b[1;32m      4\u001b[0m \u001b[0;34m\u001b[0m\u001b[0m\n\u001b[1;32m      5\u001b[0m \u001b[0mprint\u001b[0m \u001b[0;34m(\u001b[0m\u001b[0mstr\u001b[0m\u001b[0;34m(\u001b[0m\u001b[0mdollars\u001b[0m\u001b[0;34m)\u001b[0m \u001b[0;34m+\u001b[0m\u001b[0;34m\" US dollar(s) = \"\u001b[0m \u001b[0;34m+\u001b[0m \u001b[0mstr\u001b[0m\u001b[0;34m(\u001b[0m\u001b[0mconversion\u001b[0m\u001b[0;34m)\u001b[0m \u001b[0;34m+\u001b[0m \u001b[0;34m\" Philippine Peso(s)\"\u001b[0m\u001b[0;34m)\u001b[0m\u001b[0;34m\u001b[0m\u001b[0;34m\u001b[0m\u001b[0m\n",
      "\u001b[0;32m~/opt/anaconda3/lib/python3.8/site-packages/ipykernel/kernelbase.py\u001b[0m in \u001b[0;36mraw_input\u001b[0;34m(self, prompt)\u001b[0m\n\u001b[1;32m    858\u001b[0m                 \u001b[0;34m\"raw_input was called, but this frontend does not support input requests.\"\u001b[0m\u001b[0;34m\u001b[0m\u001b[0;34m\u001b[0m\u001b[0m\n\u001b[1;32m    859\u001b[0m             )\n\u001b[0;32m--> 860\u001b[0;31m         return self._input_request(str(prompt),\n\u001b[0m\u001b[1;32m    861\u001b[0m             \u001b[0mself\u001b[0m\u001b[0;34m.\u001b[0m\u001b[0m_parent_ident\u001b[0m\u001b[0;34m,\u001b[0m\u001b[0;34m\u001b[0m\u001b[0;34m\u001b[0m\u001b[0m\n\u001b[1;32m    862\u001b[0m             \u001b[0mself\u001b[0m\u001b[0;34m.\u001b[0m\u001b[0m_parent_header\u001b[0m\u001b[0;34m,\u001b[0m\u001b[0;34m\u001b[0m\u001b[0;34m\u001b[0m\u001b[0m\n",
      "\u001b[0;32m~/opt/anaconda3/lib/python3.8/site-packages/ipykernel/kernelbase.py\u001b[0m in \u001b[0;36m_input_request\u001b[0;34m(self, prompt, ident, parent, password)\u001b[0m\n\u001b[1;32m    902\u001b[0m             \u001b[0;32mexcept\u001b[0m \u001b[0mKeyboardInterrupt\u001b[0m\u001b[0;34m:\u001b[0m\u001b[0;34m\u001b[0m\u001b[0;34m\u001b[0m\u001b[0m\n\u001b[1;32m    903\u001b[0m                 \u001b[0;31m# re-raise KeyboardInterrupt, to truncate traceback\u001b[0m\u001b[0;34m\u001b[0m\u001b[0;34m\u001b[0m\u001b[0;34m\u001b[0m\u001b[0m\n\u001b[0;32m--> 904\u001b[0;31m                 \u001b[0;32mraise\u001b[0m \u001b[0mKeyboardInterrupt\u001b[0m\u001b[0;34m(\u001b[0m\u001b[0;34m\"Interrupted by user\"\u001b[0m\u001b[0;34m)\u001b[0m \u001b[0;32mfrom\u001b[0m \u001b[0;32mNone\u001b[0m\u001b[0;34m\u001b[0m\u001b[0;34m\u001b[0m\u001b[0m\n\u001b[0m\u001b[1;32m    905\u001b[0m             \u001b[0;32mexcept\u001b[0m \u001b[0mException\u001b[0m \u001b[0;32mas\u001b[0m \u001b[0me\u001b[0m\u001b[0;34m:\u001b[0m\u001b[0;34m\u001b[0m\u001b[0;34m\u001b[0m\u001b[0m\n\u001b[1;32m    906\u001b[0m                 \u001b[0mself\u001b[0m\u001b[0;34m.\u001b[0m\u001b[0mlog\u001b[0m\u001b[0;34m.\u001b[0m\u001b[0mwarning\u001b[0m\u001b[0;34m(\u001b[0m\u001b[0;34m\"Invalid Message:\"\u001b[0m\u001b[0;34m,\u001b[0m \u001b[0mexc_info\u001b[0m\u001b[0;34m=\u001b[0m\u001b[0;32mTrue\u001b[0m\u001b[0;34m)\u001b[0m\u001b[0;34m\u001b[0m\u001b[0;34m\u001b[0m\u001b[0m\n",
      "\u001b[0;31mKeyboardInterrupt\u001b[0m: Interrupted by user"
     ]
    }
   ],
   "source": [
    "dollars = float(input(\"Enter the amount in US Dollars: \"))\n",
    "\n",
    "conversion = dollar_to_pesos(dollars)\n",
    "\n",
    "print (str(dollars) +\" US dollar(s) = \" + str(conversion) + \" Philippine Peso(s)\")"
   ]
  },
  {
   "cell_type": "markdown",
   "id": "bfe38c4d",
   "metadata": {},
   "source": [
    "### Problem 2 Numerical Operations"
   ]
  },
  {
   "cell_type": "code",
   "execution_count": null,
   "id": "72e8df55",
   "metadata": {},
   "outputs": [],
   "source": [
    "def perform_operations(x,y):\n",
    "    output = x+y,x-y, x*y, x//y, x%y\n",
    "    print (output)"
   ]
  },
  {
   "cell_type": "code",
   "execution_count": null,
   "id": "d2b8f575",
   "metadata": {},
   "outputs": [],
   "source": [
    "x = int(input(\"x = \"))\n",
    "\n",
    "y = int(input(\"y = \"))\n",
    "\n",
    "output = perform_operations(x,y)"
   ]
  },
  {
   "cell_type": "markdown",
   "id": "a5eadfd1",
   "metadata": {},
   "source": [
    "### Problem 3 BMI Calculator "
   ]
  },
  {
   "cell_type": "code",
   "execution_count": 3,
   "id": "c570d78d",
   "metadata": {},
   "outputs": [],
   "source": [
    "def solve_bmi(kg,cm):\n",
    "    bmi = kg/m2\n",
    "    return bmi\n"
   ]
  },
  {
   "cell_type": "code",
   "execution_count": 4,
   "id": "983d27ec",
   "metadata": {},
   "outputs": [
    {
     "name": "stdout",
     "output_type": "stream",
     "text": [
      "kg: 56\n",
      "cm: 103\n",
      "Your BMI is 52.78537091149025\n"
     ]
    }
   ],
   "source": [
    "kg = float(input(\"kg: \"))\n",
    "cm = float(input(\"cm: \"))\n",
    "m2 = (cm / 100)**2\n",
    "\n",
    "bmi = solve_bmi(kg,cm)\n",
    "\n",
    "print (\"Your BMI is\", bmi)"
   ]
  },
  {
   "cell_type": "code",
   "execution_count": null,
   "id": "21a4ca5d",
   "metadata": {},
   "outputs": [],
   "source": []
  }
 ],
 "metadata": {
  "kernelspec": {
   "display_name": "Python 3",
   "language": "python",
   "name": "python3"
  },
  "language_info": {
   "codemirror_mode": {
    "name": "ipython",
    "version": 3
   },
   "file_extension": ".py",
   "mimetype": "text/x-python",
   "name": "python",
   "nbconvert_exporter": "python",
   "pygments_lexer": "ipython3",
   "version": "3.8.8"
  }
 },
 "nbformat": 4,
 "nbformat_minor": 5
}
